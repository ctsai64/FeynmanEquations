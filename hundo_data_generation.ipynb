{
 "cells": [
  {
   "cell_type": "code",
   "execution_count": 1,
   "metadata": {},
   "outputs": [],
   "source": [
    "import pandas as pd\n",
    "import torch\n",
    "import torch.nn.functional as F\n",
    "import sympy as sp"
   ]
  },
  {
   "cell_type": "code",
   "execution_count": 2,
   "metadata": {},
   "outputs": [],
   "source": [
    "device = torch.device(\"cuda:4\" if torch.cuda.is_available() else \"cpu\")"
   ]
  },
  {
   "cell_type": "code",
   "execution_count": 8,
   "metadata": {},
   "outputs": [],
   "source": [
    "import pandas as pd\n",
    "\n",
    "df = pd.read_csv('hundo_equations.csv')\n",
    "\n",
    "functions = []\n",
    "\n",
    "for _, row in df.iterrows():\n",
    "    formula = row['Formula']\n",
    "    num_vars = row['# parameters']\n",
    "    \n",
    "    function_details = {\n",
    "        'formula': formula,\n",
    "        'num_variables': num_vars,\n",
    "        'parameters': []\n",
    "    }\n",
    "    \n",
    "    for i in range(1, num_vars + 1):\n",
    "        param_name = row.get(f'p{i}_name', None)\n",
    "        if pd.notna(param_name):\n",
    "            function_details['parameters'].append(param_name)\n",
    "    \n",
    "    functions.append(function_details)"
   ]
  },
  {
   "cell_type": "code",
   "execution_count": 24,
   "metadata": {},
   "outputs": [
    {
     "name": "stdout",
     "output_type": "stream",
     "text": [
      "torch.Size([1000])\n",
      "torch.Size([100, 3, 1000])\n"
     ]
    }
   ],
   "source": [
    "high = 1\n",
    "low = -1\n",
    "sequence_size = 1000\n",
    "num_funcs = 10\n",
    "max_vars = max([f['num_variables'] for f in functions])\n",
    "sample_size = num_funcs*100\n",
    "\n",
    "x = torch.linspace(high, low, sequence_size)\n",
    "# x = x.unsqueeze(1).expand(sequence_size, int(sample_size/num_funcs))\n",
    "\n",
    "param_values = []\n",
    "for func in functions:\n",
    "    hold = []\n",
    "    for param in func['parameters']:\n",
    "        p = (high - low) * torch.rand(sample_size) + low\n",
    "        hold.append(p)\n",
    "    params = torch.stack(hold)\n",
    "    params = F.pad(params, (0, 0,0,max_vars - params.shape[0]))\n",
    "    param_values.append(params)\n",
    "param_values = torch.stack(param_values)\n",
    "\n",
    "print(x.shape)\n",
    "print(param_values.shape)"
   ]
  },
  {
   "cell_type": "code",
   "execution_count": 27,
   "metadata": {},
   "outputs": [
    {
     "data": {
      "text/plain": [
       "tensor(-0.2514)"
      ]
     },
     "execution_count": 27,
     "metadata": {},
     "output_type": "execute_result"
    }
   ],
   "source": [
    "param_values[0, 0, 0]"
   ]
  },
  {
   "cell_type": "code",
   "execution_count": 33,
   "metadata": {},
   "outputs": [
    {
     "name": "stdout",
     "output_type": "stream",
     "text": [
      "ax**2 + bx + c\n",
      "[a, b, c]\n",
      "{a: tensor(0.9578)}\n",
      "ax**2 + bx + c\n"
     ]
    },
    {
     "ename": "TypeError",
     "evalue": "Cannot convert expression to float",
     "output_type": "error",
     "traceback": [
      "\u001b[0;31m---------------------------------------------------------------------------\u001b[0m",
      "\u001b[0;31mTypeError\u001b[0m                                 Traceback (most recent call last)",
      "Cell \u001b[0;32mIn[33], line 13\u001b[0m\n\u001b[1;32m     11\u001b[0m         evaluate \u001b[38;5;241m=\u001b[39m formula\u001b[38;5;241m.\u001b[39msubs(var_values)\n\u001b[1;32m     12\u001b[0m         \u001b[38;5;28mprint\u001b[39m(evaluate)\n\u001b[0;32m---> 13\u001b[0m         y\u001b[38;5;241m.\u001b[39mappend(\u001b[38;5;28;43mfloat\u001b[39;49m\u001b[43m(\u001b[49m\u001b[43mevaluate\u001b[49m\u001b[43m)\u001b[49m)\n\u001b[1;32m     14\u001b[0m     y_values\u001b[38;5;241m.\u001b[39mappend(torch\u001b[38;5;241m.\u001b[39mstack(y))\n\u001b[1;32m     15\u001b[0m y_values \u001b[38;5;241m=\u001b[39m torch\u001b[38;5;241m.\u001b[39mstack(y_values)\n",
      "File \u001b[0;32m~/FeynmanEquations/.conda/lib/python3.11/site-packages/sympy/core/expr.py:340\u001b[0m, in \u001b[0;36mExpr.__float__\u001b[0;34m(self)\u001b[0m\n\u001b[1;32m    338\u001b[0m \u001b[38;5;28;01mif\u001b[39;00m result\u001b[38;5;241m.\u001b[39mis_number \u001b[38;5;129;01mand\u001b[39;00m result\u001b[38;5;241m.\u001b[39mas_real_imag()[\u001b[38;5;241m1\u001b[39m]:\n\u001b[1;32m    339\u001b[0m     \u001b[38;5;28;01mraise\u001b[39;00m \u001b[38;5;167;01mTypeError\u001b[39;00m(\u001b[38;5;124m\"\u001b[39m\u001b[38;5;124mCannot convert complex to float\u001b[39m\u001b[38;5;124m\"\u001b[39m)\n\u001b[0;32m--> 340\u001b[0m \u001b[38;5;28;01mraise\u001b[39;00m \u001b[38;5;167;01mTypeError\u001b[39;00m(\u001b[38;5;124m\"\u001b[39m\u001b[38;5;124mCannot convert expression to float\u001b[39m\u001b[38;5;124m\"\u001b[39m)\n",
      "\u001b[0;31mTypeError\u001b[0m: Cannot convert expression to float"
     ]
    }
   ],
   "source": [
    "y_values = []\n",
    "for f in range(len(functions)):\n",
    "    formula = sp.sympify(functions[f]['formula'])\n",
    "    print(formula)\n",
    "    symbols = [sp.symbols(p) for p in functions[f]['parameters']]\n",
    "    print(symbols)\n",
    "    y = []\n",
    "    for i in range(sample_size):\n",
    "        var_values = {symbols[i]: param_values[f, n, i] for n in range(len(symbols))}\n",
    "        print(var_values)\n",
    "        evaluate = formula.subs(var_values)\n",
    "        print(evaluate)\n",
    "        y.append(float(evaluate))\n",
    "    y_values.append(torch.stack(y))\n",
    "y_values = torch.stack(y_values)\n",
    "y_values.shape"
   ]
  }
 ],
 "metadata": {
  "kernelspec": {
   "display_name": "Python 3",
   "language": "python",
   "name": "python3"
  },
  "language_info": {
   "codemirror_mode": {
    "name": "ipython",
    "version": 3
   },
   "file_extension": ".py",
   "mimetype": "text/x-python",
   "name": "python",
   "nbconvert_exporter": "python",
   "pygments_lexer": "ipython3",
   "version": "3.11.9"
  }
 },
 "nbformat": 4,
 "nbformat_minor": 2
}
