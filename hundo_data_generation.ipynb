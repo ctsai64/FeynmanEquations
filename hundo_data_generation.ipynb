{
 "cells": [
  {
   "cell_type": "code",
   "execution_count": 1,
   "metadata": {},
   "outputs": [],
   "source": [
    "import pandas as pd\n",
    "import torch\n",
    "import torch.nn.functional as F\n",
    "import sympy as sp"
   ]
  },
  {
   "cell_type": "code",
   "execution_count": 12,
   "metadata": {},
   "outputs": [],
   "source": [
    "device = torch.device(\"cuda:4\" if torch.cuda.is_available() else \"cpu\")"
   ]
  },
  {
   "cell_type": "code",
   "execution_count": 8,
   "metadata": {},
   "outputs": [],
   "source": [
    "import pandas as pd\n",
    "\n",
    "df = pd.read_csv('hundo_equations.csv')\n",
    "\n",
    "functions = []\n",
    "\n",
    "for _, row in df.iterrows():\n",
    "    formula = row['Formula']\n",
    "    num_vars = row['# parameters']\n",
    "    \n",
    "    function_details = {\n",
    "        'formula': formula,\n",
    "        'num_variables': num_vars,\n",
    "        'parameters': []\n",
    "    }\n",
    "    \n",
    "    for i in range(1, num_vars + 1):\n",
    "        param_name = row.get(f'p{i}_name', None)\n",
    "        if pd.notna(param_name):\n",
    "            function_details['parameters'].append({\n",
    "                'name': param_name\n",
    "            })\n",
    "    \n",
    "    functions.append(function_details)"
   ]
  },
  {
   "cell_type": "code",
   "execution_count": 11,
   "metadata": {},
   "outputs": [
    {
     "data": {
      "text/plain": [
       "{'formula': 'ax^2 + bx + c',\n",
       " 'num_variables': 3,\n",
       " 'parameters': [{'name': 'a'}, {'name': 'b'}, {'name': 'c'}]}"
      ]
     },
     "execution_count": 11,
     "metadata": {},
     "output_type": "execute_result"
    }
   ],
   "source": [
    "functions[0]"
   ]
  },
  {
   "cell_type": "code",
   "execution_count": 30,
   "metadata": {},
   "outputs": [
    {
     "name": "stdout",
     "output_type": "stream",
     "text": [
      "torch.Size([110])\n",
      "torch.Size([100, 3, 1000])\n"
     ]
    }
   ],
   "source": [
    "high = 1\n",
    "low = -1\n",
    "sequence_size = 110\n",
    "num_funcs = 10\n",
    "max_vars = max([f['num_variables'] for f in functions])\n",
    "sample_size = num_funcs*100\n",
    "\n",
    "x = torch.linspace(high, low, sequence_size)\n",
    "# x = x.unsqueeze(1).expand(sequence_size, int(sample_size/num_funcs))\n",
    "\n",
    "func_data = []\n",
    "for func in functions:\n",
    "    hold = []\n",
    "    for param in func['parameters']:\n",
    "        p = (high - low) * torch.rand(sample_size) + low\n",
    "        hold.append(p)\n",
    "    params = torch.stack(hold)\n",
    "    params = F.pad(params, (0, 0,0,max_vars - params.shape[0]))\n",
    "    func_data.append(params)\n",
    "func_data = torch.stack(func_data)\n",
    "\n",
    "print(x.shape)\n",
    "print(func_data.shape)"
   ]
  }
 ],
 "metadata": {
  "kernelspec": {
   "display_name": "Python 3",
   "language": "python",
   "name": "python3"
  },
  "language_info": {
   "codemirror_mode": {
    "name": "ipython",
    "version": 3
   },
   "file_extension": ".py",
   "mimetype": "text/x-python",
   "name": "python",
   "nbconvert_exporter": "python",
   "pygments_lexer": "ipython3",
   "version": "3.11.9"
  }
 },
 "nbformat": 4,
 "nbformat_minor": 2
}
