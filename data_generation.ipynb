{
 "cells": [
  {
   "cell_type": "code",
   "execution_count": 1,
   "metadata": {},
   "outputs": [],
   "source": [
    "import torch\n",
    "import torch.nn.functional as F\n",
    "import sympy as sp\n",
    "import pandas as pd\n",
    "import numpy as np\n",
    "import numdifftools as nd"
   ]
  },
  {
   "cell_type": "code",
   "execution_count": 2,
   "metadata": {},
   "outputs": [],
   "source": [
    "device = torch.device(\"cuda:4\" if torch.cuda.is_available() else \"cpu\")"
   ]
  },
  {
   "cell_type": "code",
   "execution_count": 3,
   "metadata": {},
   "outputs": [
    {
     "data": {
      "text/plain": [
       "'for i, func in enumerate(functions):\\n    print(f\"Function {i+1}:\")\\n    print(f\"  Formula: {func[\\'formula\\']}\")\\n    print(f\"  Number of Variables: {num_vars_per_func[i]}\")\\n    print(\"  Variables:\")\\n    for var in func[\\'variables\\']:\\n        print(f\"    - Name: {var[\\'name\\']}, Range: ({var[\\'low\\']}, {var[\\'high\\']})\")\\n    print()'"
      ]
     },
     "execution_count": 3,
     "metadata": {},
     "output_type": "execute_result"
    }
   ],
   "source": [
    "df = pd.read_csv('physics_equations.csv')\n",
    "\n",
    "functions = []\n",
    "num_vars_per_func = []\n",
    "\n",
    "for _, row in df.iterrows():\n",
    "    formula = row['Formula']\n",
    "    num_vars = row['# variables']\n",
    "    function_details = {\n",
    "        'formula': formula,\n",
    "        'variables': []\n",
    "    }\n",
    "    \n",
    "    for i in range(1, 11):  \n",
    "        v_name = row.get(f'v{i}_name', None)\n",
    "        v_low = row.get(f'v{i}_low', None)\n",
    "        v_high = row.get(f'v{i}_high', None)\n",
    "        \n",
    "        if pd.notna(v_name):\n",
    "            function_details['variables'].append({\n",
    "                'name': v_name,\n",
    "                'low': v_low,\n",
    "                'high': v_high\n",
    "            })\n",
    "    \n",
    "    functions.append(function_details)\n",
    "    num_vars_per_func.append(num_vars)\n",
    "\n",
    "'''for i, func in enumerate(functions):\n",
    "    print(f\"Function {i+1}:\")\n",
    "    print(f\"  Formula: {func['formula']}\")\n",
    "    print(f\"  Number of Variables: {num_vars_per_func[i]}\")\n",
    "    print(\"  Variables:\")\n",
    "    for var in func['variables']:\n",
    "        print(f\"    - Name: {var['name']}, Range: ({var['low']}, {var['high']})\")\n",
    "    print()'''"
   ]
  },
  {
   "cell_type": "code",
   "execution_count": 38,
   "metadata": {},
   "outputs": [],
   "source": [
    "def generate_function(function, sample_size, x, max_vars, device):\n",
    "    sympy_symbols = []\n",
    "    param_tensors = []\n",
    "    \n",
    "    for var in function[\"variables\"]:\n",
    "        sym = sp.symbols(var[\"name\"])\n",
    "        sympy_symbols.append(sym)\n",
    "        min_val, max_val = var[\"low\"], var[\"high\"]\n",
    "        param = (max_val - min_val) * torch.rand(sample_size, 1, device=device) + min_val\n",
    "        param_tensors.append(param)\n",
    "    sympy_symbols.append(sp.symbols('x'))\n",
    "    params = torch.cat(param_tensors, dim=1)\n",
    "    padded_params = F.pad(params, pad=(0, max_vars - params.size(1)))\n",
    "    padded_params = padded_params.expand(sample_size, max_vars)\n",
    "    formula = sp.sympify(function[\"formula\"])\n",
    "    eval_func = sp.lambdify(sympy_symbols, formula, modules=\"numpy\")\n",
    "        \n",
    "    results = []\n",
    "    for xi in x:\n",
    "        input_values = torch.cat([params, xi.expand(sample_size, 1)], dim=1)\n",
    "        results.append(eval_func(*input_values.T))\n",
    "    results = torch.stack(results, dim=1)\n",
    "    \n",
    "    return [results, formula, sympy_symbols, padded_params]"
   ]
  },
  {
   "cell_type": "code",
   "execution_count": 47,
   "metadata": {},
   "outputs": [],
   "source": [
    "sample_size = 1000\n",
    "sequence_length = 100\n",
    "num_funcs = 10\n",
    "max_vars = 5\n",
    "\n",
    "x_values = torch.linspace(-1, 1, sequence_length).to(device)\n",
    "hold = []\n",
    "for f in range(num_funcs): #functions[0:10]:\n",
    "    try:\n",
    "        results = generate_function(functions[f], sample_size, x_values, max_vars, device)\n",
    "        results.append(f)\n",
    "        hold.append(results)\n",
    "    except Exception as e:\n",
    "        print(f\"Error processing function {f}: {e}\")"
   ]
  },
  {
   "cell_type": "code",
   "execution_count": 110,
   "metadata": {},
   "outputs": [],
   "source": [
    "y_values = torch.stack([l[0] for l in hold])\n",
    "formulas = [l[1] for l in hold]\n",
    "symbols = [l[2] for l in hold]\n",
    "param_values = [l[3] for l in hold]\n",
    "num_params = torch.tensor([len(l[2])-1 for l in hold])\n",
    "function_labels = [l[4] for l in hold]"
   ]
  },
  {
   "cell_type": "code",
   "execution_count": 111,
   "metadata": {},
   "outputs": [
    {
     "data": {
      "text/plain": [
       "torch.Size([10, 1000, 50])"
      ]
     },
     "execution_count": 111,
     "metadata": {},
     "output_type": "execute_result"
    }
   ],
   "source": [
    "full_params = torch.zeros(num_funcs, sample_size, num_funcs*max_vars)\n",
    "for f in range(num_funcs):\n",
    "    for i in range(sample_size):\n",
    "        full_params[f, i, f*max_vars:f*max_vars+max_vars] = param_values[f][i]\n",
    "full_params.shape"
   ]
  },
  {
   "cell_type": "code",
   "execution_count": 112,
   "metadata": {},
   "outputs": [],
   "source": [
    "param_values = torch.stack(param_values)\n",
    "full_params = full_params.flatten(0, 1)"
   ]
  },
  {
   "cell_type": "code",
   "execution_count": 113,
   "metadata": {},
   "outputs": [],
   "source": [
    "function_labels = torch.tensor(function_labels).repeat_interleave(sample_size)"
   ]
  },
  {
   "cell_type": "code",
   "execution_count": 114,
   "metadata": {},
   "outputs": [],
   "source": [
    "def evaluate_function(params, symbols, formula, x):\n",
    "    var_values = {symbols[j]: params[:, j] for j in range(len(symbols)-1)}\n",
    "    eval_func = sp.lambdify(symbols, formula, modules=\"numpy\")\n",
    "    results = []\n",
    "    for xi in x:\n",
    "        var_values[symbols[-1]] = xi\n",
    "        np_values = {str(sym): var_values[sym].detach().cpu().numpy() for sym in symbols}\n",
    "        results.append(eval_func(**np_values))\n",
    "    tensor_results = [torch.tensor(r, device=device) for r in results]\n",
    "    return torch.stack(tensor_results, dim=1)"
   ]
  },
  {
   "cell_type": "code",
   "execution_count": 115,
   "metadata": {},
   "outputs": [
    {
     "data": {
      "text/plain": [
       "torch.Size([10, 1000, 100, 5])"
      ]
     },
     "execution_count": 115,
     "metadata": {},
     "output_type": "execute_result"
    }
   ],
   "source": [
    "epsilon = 1e-4\n",
    "derivatives = torch.zeros(num_funcs, sample_size, sequence_length, max_vars)\n",
    "for f in range(num_funcs):\n",
    "    params_n = param_values[f].clone().detach().requires_grad_(True)\n",
    "    for p in range(len(symbols[f])-1):\n",
    "        plus = params_n.clone()\n",
    "        minus = params_n.clone()\n",
    "        plus[:,p] += epsilon\n",
    "        forward_values = evaluate_function(plus, symbols[f], formulas[f], x_values)\n",
    "        minus[:, p] -= epsilon\n",
    "        backward_values = evaluate_function(minus, symbols[f], formulas[f], x_values)\n",
    "        derivatives[f, :, :, p] = (forward_values - backward_values) / (2 * epsilon)\n",
    "derivatives.shape"
   ]
  },
  {
   "cell_type": "code",
   "execution_count": 116,
   "metadata": {},
   "outputs": [
    {
     "data": {
      "text/plain": [
       "torch.Size([10, 1000, 100, 5, 5])"
      ]
     },
     "execution_count": 116,
     "metadata": {},
     "output_type": "execute_result"
    }
   ],
   "source": [
    "hessians = torch.zeros(num_funcs, sample_size, sequence_length, max_vars, max_vars)\n",
    "for f in range(num_funcs):\n",
    "    params_f = param_values[f].clone().detach().requires_grad_(True)\n",
    "    for j in range(len(symbols[f])-1):\n",
    "        for k in range(len(symbols[f])-1):\n",
    "            plus_plus = params_f.clone()\n",
    "            plus_minus = params_f.clone()\n",
    "            minus_plus = params_f.clone()\n",
    "            minus_minus = params_f.clone()\n",
    "\n",
    "            plus_plus[:, j] += epsilon\n",
    "            plus_plus[:, k] += epsilon\n",
    "\n",
    "            plus_minus[:, j] += epsilon\n",
    "            plus_minus[:, k] -= epsilon\n",
    "\n",
    "            minus_plus[:, j] -= epsilon\n",
    "            minus_plus[:, k] += epsilon\n",
    "\n",
    "            minus_minus[:, j] -= epsilon\n",
    "            minus_minus[:, k] -= epsilon\n",
    "\n",
    "            forward_forward = evaluate_function(plus_plus, symbols[f], formulas[f], x_values)\n",
    "            forward_backward = evaluate_function(plus_minus, symbols[f], formulas[f], x_values)\n",
    "            backward_forward = evaluate_function(minus_plus, symbols[f], formulas[f], x_values)\n",
    "            backward_backward = evaluate_function(minus_minus, symbols[f], formulas[f], x_values)\n",
    "            hessians[f, :, :, j, k] = (forward_forward - forward_backward - backward_forward + backward_backward) / (4 * epsilon **2)\n",
    "hessians.shape"
   ]
  },
  {
   "cell_type": "code",
   "execution_count": 117,
   "metadata": {},
   "outputs": [],
   "source": [
    "y_values = y_values.flatten(0, 1)\n",
    "derivatives = derivatives.flatten(0, 1)\n",
    "hessians = hessians.flatten(0, 1)\n",
    "hessians = hessians.flatten(2,3)\n",
    "param_values = param_values.flatten(0, 1)"
   ]
  },
  {
   "cell_type": "code",
   "execution_count": 118,
   "metadata": {},
   "outputs": [
    {
     "name": "stdout",
     "output_type": "stream",
     "text": [
      "x_values: torch.Size([100])\n",
      "y_values: torch.Size([10000, 100])\n",
      "derivatives: torch.Size([10000, 100, 5])\n",
      "hessians: torch.Size([10000, 100, 25])\n",
      "param_values: torch.Size([10000, 5])\n",
      "formulas: 10\n",
      "symbols: 10\n",
      "num_params: torch.Size([10])\n",
      "functions: 10000\n",
      "full_params: torch.Size([10000, 50])\n"
     ]
    }
   ],
   "source": [
    "print(f\"x_values: {x_values.shape}\")\n",
    "print(f\"y_values: {y_values.shape}\")\n",
    "print(f\"derivatives: {derivatives.shape}\")\n",
    "print(f\"hessians: {hessians.shape}\")\n",
    "print(f\"param_values: {param_values.shape}\")\n",
    "print(f\"formulas: {len(formulas)}\")\n",
    "print(f\"symbols: {len(symbols)}\")\n",
    "print(f\"num_params: {num_params.shape}\")\n",
    "print(f\"functions: {len(function_labels)}\")\n",
    "print(f\"full_params: {full_params.shape}\")"
   ]
  },
  {
   "cell_type": "code",
   "execution_count": 120,
   "metadata": {},
   "outputs": [
    {
     "name": "stdout",
     "output_type": "stream",
     "text": [
      "tensor(8)\n",
      "A*s*x**4\n"
     ]
    },
    {
     "data": {
      "image/png": "[encoded data removed]",
      "text/plain": [
       "<Figure size 640x480 with 1 Axes>"
      ]
     },
     "metadata": {},
     "output_type": "display_data"
    }
   ],
   "source": [
    "import matplotlib.pyplot as plt\n",
    "\n",
    "r = np.random.randint(sample_size*num_funcs)\n",
    "plt.plot(x_values.cpu().numpy(), y_values[r].cpu().numpy(), label='y')\n",
    "#plt.plot(x_values.cpu().numpy(), derivatives[r, :, 0].cpu().numpy(), label='d')\n",
    "plt.legend()\n",
    "print(function_labels[r])\n",
    "print(formulas[function_labels[r]])"
   ]
  },
  {
   "cell_type": "code",
   "execution_count": 121,
   "metadata": {},
   "outputs": [],
   "source": [
    "torch.save({\n",
    "    'x_values': x_values,\n",
    "    'y_values': y_values,\n",
    "    'derivatives': derivatives,\n",
    "    'param_values': param_values,\n",
    "    'formulas': formulas,\n",
    "    'symbols': symbols,\n",
    "    'num_params': num_params,\n",
    "    'function_labels': function_labels,\n",
    "    'full_params': full_params,\n",
    "}, 'hold_data.pth')"
   ]
  },
  {
   "cell_type": "code",
   "execution_count": 122,
   "metadata": {},
   "outputs": [],
   "source": [
    "torch.save({\n",
    "    'hessians': hessians,\n",
    "}, 'hold_other.pth')"
   ]
  }
 ],
 "metadata": {
  "kernelspec": {
   "display_name": "Python 3",
   "language": "python",
   "name": "python3"
  },
  "language_info": {
   "codemirror_mode": {
    "name": "ipython",
    "version": 3
   },
   "file_extension": ".py",
   "mimetype": "text/x-python",
   "name": "python",
   "nbconvert_exporter": "python",
   "pygments_lexer": "ipython3",
   "version": "3.11.9"
  }
 },
 "nbformat": 4,
 "nbformat_minor": 2
}
