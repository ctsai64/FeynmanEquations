{
 "cells": [
  {
   "cell_type": "code",
   "execution_count": 2,
   "metadata": {},
   "outputs": [],
   "source": [
    "import torch\n",
    "import torch.nn as nn\n",
    "import torch.optim as optim\n",
    "from torch.utils.data import DataLoader\n",
    "\n",
    "import matplotlib.pyplot as plt\n",
    "import numpy as np\n",
    "import time\n",
    "from torch.optim.lr_scheduler import StepLR\n",
    "from sympy import sympify, symbols"
   ]
  },
  {
   "cell_type": "code",
   "execution_count": 3,
   "metadata": {},
   "outputs": [],
   "source": [
    "device = torch.device(\"cuda:4\" if torch.cuda.is_available() else \"cpu\")"
   ]
  },
  {
   "cell_type": "code",
   "execution_count": 4,
   "metadata": {},
   "outputs": [],
   "source": [
    "class Multi_Func(nn.Module):\n",
    "    def __init__(self, functions, x_data, input_channels, device):\n",
    "        super().__init__()\n",
    "        self.device = device\n",
    "        self.functions = functions  # [[function, (...)], [# params, (...)]]\n",
    "        self.x_data = x_data\n",
    "        self.input_channels = input_channels\n",
    "        self.params = sum(self.functions[1])\n",
    "\n",
    "        self.hidden_x1 = nn.Sequential(\n",
    "            nn.Conv1d(in_channels=self.input_channels, out_channels=8, kernel_size=7),\n",
    "            nn.SELU(),\n",
    "            nn.Conv1d(in_channels=8, out_channels=6, kernel_size=7),\n",
    "            nn.SELU(),\n",
    "            nn.Conv1d(in_channels=6, out_channels=4, kernel_size=5),\n",
    "            nn.SELU(),\n",
    "            nn.AdaptiveAvgPool1d(64)\n",
    "        )\n",
    "\n",
    "        self.hidden_xfc = nn.Sequential(\n",
    "            nn.Linear(256, 64),\n",
    "            nn.SELU(),\n",
    "            nn.Linear(64, 32),\n",
    "            nn.SELU(),\n",
    "            nn.Linear(32, 20),\n",
    "            nn.SELU(),\n",
    "        )\n",
    "\n",
    "        self.hidden_x2 = nn.Sequential(\n",
    "            nn.MaxPool1d(kernel_size=2),\n",
    "            nn.Conv1d(in_channels=2, out_channels=4, kernel_size=5),\n",
    "            nn.SELU(),\n",
    "            nn.Conv1d(in_channels=4, out_channels=4, kernel_size=5),\n",
    "            nn.SELU(),\n",
    "            nn.Conv1d(in_channels=4, out_channels=4, kernel_size=5),\n",
    "            nn.SELU(),\n",
    "            nn.Conv1d(in_channels=4, out_channels=4, kernel_size=5),\n",
    "            nn.SELU(),\n",
    "            nn.Conv1d(in_channels=4, out_channels=4, kernel_size=5),\n",
    "            nn.SELU(),\n",
    "            nn.Conv1d(in_channels=4, out_channels=4, kernel_size=5),\n",
    "            nn.SELU(),\n",
    "            nn.Conv1d(in_channels=4, out_channels=4, kernel_size=5),\n",
    "            nn.SELU(),\n",
    "            nn.AdaptiveAvgPool1d(16),\n",
    "            nn.Conv1d(in_channels=4, out_channels=2, kernel_size=3),\n",
    "            nn.SELU(),\n",
    "            nn.AdaptiveAvgPool1d(8),\n",
    "            nn.Conv1d(in_channels=2, out_channels=2, kernel_size=3),\n",
    "            nn.SELU(),\n",
    "            nn.AdaptiveAvgPool1d(4),\n",
    "        )\n",
    "\n",
    "        self.flatten_layer = nn.Flatten()\n",
    "\n",
    "        self.hidden_embedding = nn.Sequential(\n",
    "            nn.Linear(28, 128),\n",
    "            nn.SELU(),\n",
    "            nn.Linear(128, 64),\n",
    "            nn.SELU(),\n",
    "            nn.Linear(64, self.params), \n",
    "        )\n",
    "\n",
    "    def forward(self, x, n=-1):\n",
    "        target = x.squeeze(dim=2)\n",
    "        x = torch.swapaxes(x, 1, 2).to(self.device)\n",
    "        x = self.hidden_x1(x)\n",
    "        xfc = torch.reshape(x, (n, 256))\n",
    "        xfc = self.hidden_xfc(xfc)\n",
    "\n",
    "        x = torch.reshape(x, (n, 2, 128))\n",
    "        x = self.hidden_x2(x)\n",
    "        cnn_flat = self.flatten_layer(x)\n",
    "        encoded = torch.cat((cnn_flat, xfc), 1)\n",
    "        embedding = self.hidden_embedding(encoded)\n",
    "\n",
    "        start_index = 0\n",
    "        losses = []\n",
    "        outputs = []\n",
    "        target_range = torch.max(target, dim=-1, keepdim=True)[0] - torch.min(target, dim=-1, keepdim=True)[0]\n",
    "        target_range = torch.clamp(target_range, min=1e-6)\n",
    "\n",
    "        for f in range(len(self.functions[0])):\n",
    "            output = self.functions[0][f](\n",
    "                embedding[:, start_index:start_index+self.functions[1][f]], \n",
    "                self.x_data, \n",
    "                device=self.device\n",
    "            ).to(self.device)\n",
    "            outputs.append(output)\n",
    "            loss = torch.mean(torch.abs(target - output) ** 3, dim=tuple(range(1, target.dim())))/target_range.squeeze(-1)\n",
    "            losses.append(loss)\n",
    "            start_index += self.functions[1][f]    \n",
    "        \n",
    "        stacked_outputs = torch.stack(outputs)\n",
    "        stacked_losses = torch.stack(losses)\n",
    "        best_losses, best_indexes = torch.min(stacked_losses, dim=0) \n",
    "        best_outs = stacked_outputs[best_indexes, -1]\n",
    "        best_funcs = [self.functions[0][idx] for idx in best_indexes]\n",
    "\n",
    "        return best_outs, best_losses, best_funcs, stacked_outputs, stacked_losses\n"
   ]
  },
  {
   "cell_type": "code",
   "execution_count": 4,
   "metadata": {},
   "outputs": [
    {
     "data": {
      "text/plain": [
       "'for i, func in enumerate(functions):\\n    print(f\"Function {i+1}:\")\\n    print(f\"  Formula: {func[\\'formula\\']}\")\\n    print(f\"  Number of Variables: {num_vars_per_func[i]}\")\\n    print(\"  Variables:\")\\n    for var in func[\\'variables\\']:\\n        print(f\"    - Name: {var[\\'name\\']}, Range: ({var[\\'low\\']}, {var[\\'high\\']})\")\\n    print()'"
      ]
     },
     "execution_count": 4,
     "metadata": {},
     "output_type": "execute_result"
    }
   ],
   "source": [
    "import pandas as pd\n",
    "df = pd.read_csv('FeynmanEquations.csv')\n",
    "\n",
    "functions = []\n",
    "num_vars_per_func = []\n",
    "\n",
    "for _, row in df.iterrows():\n",
    "    formula = row['Formula']\n",
    "    num_vars = row['# variables']\n",
    "    function_details = {\n",
    "        'formula': formula,\n",
    "        'variables': []\n",
    "    }\n",
    "    \n",
    "    for i in range(1, 11):  \n",
    "        v_name = row.get(f'v{i}_name', None)\n",
    "        v_low = row.get(f'v{i}_low', None)\n",
    "        v_high = row.get(f'v{i}_high', None)\n",
    "        \n",
    "        if pd.notna(v_name):\n",
    "            function_details['variables'].append({\n",
    "                'name': v_name,\n",
    "                'low': v_low,\n",
    "                'high': v_high\n",
    "            })\n",
    "    \n",
    "    functions.append(function_details)\n",
    "    num_vars_per_func.append(num_vars)\n",
    "\n",
    "'''for i, func in enumerate(functions):\n",
    "    print(f\"Function {i+1}:\")\n",
    "    print(f\"  Formula: {func['formula']}\")\n",
    "    print(f\"  Number of Variables: {num_vars_per_func[i]}\")\n",
    "    print(\"  Variables:\")\n",
    "    for var in func['variables']:\n",
    "        print(f\"    - Name: {var['name']}, Range: ({var['low']}, {var['high']})\")\n",
    "    print()'''\n"
   ]
  },
  {
   "cell_type": "code",
   "execution_count": 6,
   "metadata": {},
   "outputs": [],
   "source": [
    "def generate_data(sample_size, num_vars, min, max, device):\n",
    "    hold =[]\n",
    "    for _ in range(num_vars):\n",
    "        v = (max - min) * torch.rand(sample_size, 1, 1) + min\n",
    "        hold.append(v)\n",
    "    params = torch.stack(hold)\n",
    "    params = torch.atleast_2d(params)\n",
    "    params = torch.transpose(params, 0, 1)\n",
    "    params = torch.transpose(params, 1, 2)\n",
    "    params = params.to(device)\n",
    "    return params\n"
   ]
  },
  {
   "cell_type": "code",
   "execution_count": 5,
   "metadata": {},
   "outputs": [
    {
     "data": {
      "text/plain": [
       "[{'name': 'q1', 'low': 1, 'high': 5},\n",
       " {'name': 'q2', 'low': 1.0, 'high': 5.0},\n",
       " {'name': 'epsilon', 'low': 1.0, 'high': 5.0},\n",
       " {'name': 'r', 'low': 1.0, 'high': 5.0}]"
      ]
     },
     "execution_count": 5,
     "metadata": {},
     "output_type": "execute_result"
    }
   ],
   "source": [
    "functions[8][\"variables\"]"
   ]
  },
  {
   "cell_type": "code",
   "execution_count": 12,
   "metadata": {},
   "outputs": [],
   "source": [
    "def generate_function(function, sample_size, device):\n",
    "    hold = []\n",
    "    sympy_symbols = []\n",
    "    \n",
    "    for var in function[\"variables\"]:\n",
    "        sym = symbols(var[\"name\"])\n",
    "        sympy_symbols.append(sym)\n",
    "        min_val = var[\"low\"]\n",
    "        max_val = var[\"high\"]\n",
    "        v = (max_val - min_val) * torch.rand(sample_size, 1, 1) + min_val\n",
    "        hold.append(v)\n",
    "    \n",
    "    params = torch.stack(hold)\n",
    "    params = torch.atleast_2d(params)\n",
    "    params = torch.transpose(params, 0, 1)\n",
    "    params = torch.transpose(params, 1, 2)\n",
    "    params = params.to(device)\n",
    "\n",
    "    formula = sympify(function[\"formula\"])\n",
    "    \n",
    "    results = []\n",
    "    for i in range(sample_size):\n",
    "        var_values = {sympy_symbols[j]: params[i, 0, j].item() for j in range(len(sympy_symbols))}\n",
    "        evaluated = formula.subs(var_values)\n",
    "        results.append(float(evaluated))\n",
    "    \n",
    "    return results"
   ]
  },
  {
   "cell_type": "code",
   "execution_count": 13,
   "metadata": {},
   "outputs": [
    {
     "name": "stdout",
     "output_type": "stream",
     "text": [
      "Error processing function {'formula': 'arcsin(n*sin(theta2))', 'variables': [{'name': 'n', 'low': 0, 'high': 1}, {'name': 'theta2', 'low': 1.0, 'high': 5.0}]}: Cannot convert expression to float\n",
      "Error processing function {'formula': 'arcsin(lambd/(n*d))', 'variables': [{'name': 'lambd', 'low': 1, 'high': 2}, {'name': 'd', 'low': 2.0, 'high': 5.0}, {'name': 'n', 'low': 1.0, 'high': 5.0}]}: Cannot convert expression to float\n",
      "Error processing function {'formula': '1/(gamma-1)*pr*V', 'variables': [{'name': 'gamma', 'low': 2, 'high': 5}, {'name': 'pr', 'low': 1.0, 'high': 5.0}, {'name': 'V', 'low': 1.0, 'high': 5.0}]}: unsupported operand type(s) for -: 'FunctionClass' and 'One'\n",
      "Error processing function {'formula': '1/(gamma-1)*kb*v/A', 'variables': [{'name': 'gamma', 'low': 2, 'high': 5}, {'name': 'kb', 'low': 1.0, 'high': 5.0}, {'name': 'A', 'low': 1.0, 'high': 5.0}, {'name': 'v', 'low': 1.0, 'high': 5.0}]}: unsupported operand type(s) for -: 'FunctionClass' and 'One'\n",
      "Error processing function {'formula': 'sqrt(gamma*pr/rho)', 'variables': [{'name': 'gamma', 'low': 1, 'high': 5}, {'name': 'pr', 'low': 1.0, 'high': 5.0}, {'name': 'rho', 'low': 1.0, 'high': 5.0}]}: unsupported operand type(s) for *: 'FunctionClass' and 'Symbol'\n",
      "Error processing function {'formula': '1/(4*pi*epsilon*c**2)*2*I/r', 'variables': [{'name': 'epsilon', 'low': 1, 'high': 5}, {'name': 'c', 'low': 1.0, 'high': 5.0}, {'name': 'I', 'low': 1.0, 'high': 5.0}, {'name': 'r', 'low': 1.0, 'high': 5.0}]}: Cannot convert complex to float\n",
      "Error processing function {'formula': 'beta*(1+alpha*cos(theta))', 'variables': [{'name': 'beta', 'low': 1, 'high': 5}, {'name': 'alpha', 'low': 1.0, 'high': 5.0}, {'name': 'theta', 'low': 1.0, 'high': 5.0}]}: unsupported operand type(s) for *: 'FunctionClass' and 'Add'\n",
      "torch.Size([93, 100])\n"
     ]
    }
   ],
   "source": [
    "sample_size = 100\n",
    "hold = []\n",
    "for f in functions:\n",
    "    try:\n",
    "        results = generate_function(f, sample_size, device)\n",
    "        hold.append(results)\n",
    "    except Exception as e:\n",
    "        print(f\"Error processing function {f}: {e}\")\n",
    "hold_t = [torch.tensor(l) for l in hold]\n",
    "data = torch.stack(hold_t)\n",
    "print(data.shape)\n"
   ]
  }
 ],
 "metadata": {
  "kernelspec": {
   "display_name": "Python 3",
   "language": "python",
   "name": "python3"
  },
  "language_info": {
   "codemirror_mode": {
    "name": "ipython",
    "version": 3
   },
   "file_extension": ".py",
   "mimetype": "text/x-python",
   "name": "python",
   "nbconvert_exporter": "python",
   "pygments_lexer": "ipython3",
   "version": "3.11.9"
  }
 },
 "nbformat": 4,
 "nbformat_minor": 2
}
